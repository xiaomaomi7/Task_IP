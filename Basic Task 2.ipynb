{
 "cells": [
  {
   "cell_type": "markdown",
   "metadata": {
    "collapsed": true,
    "pycharm": {
     "name": "#%% md\n"
    }
   },
   "source": [
    "# Task 2\n",
    "\n",
    "## Requirement\n",
    "    1. Open a user-selected image;\n",
    "    2. Show this image on the screen;\n",
    "    3. Capture the user’s click on the image;\n",
    "    4. Draw a 201 x 201, 5-pixel thick red square around this location;\n",
    "    5. Convert the pixels within the square to YUV.\n",
    "\n",
    "    Advanced Task:\n",
    "        Don’t fall off the edge!"
   ]
  },
  {
   "cell_type": "code",
   "execution_count": 1,
   "outputs": [],
   "source": [
    "# Import libraries\n",
    "\n",
    "%matplotlib inline\n",
    "\n",
    "import cv2 # The OpenCV library; install using `pip install opencv-contrib-python`\n",
    "import numpy as np # Helpful when working with arrays; install using `pip install numpy`\n",
    "from matplotlib import pyplot as plt # Good for graphing; install using `pip install matplotlib`\n",
    "from matplotlib import image as image\n",
    "import easygui # An easy-to-use file-picker; pip install easygui"
   ],
   "metadata": {
    "collapsed": false,
    "pycharm": {
     "name": "#%%\n"
    }
   }
  },
  {
   "cell_type": "code",
   "execution_count": 25,
   "outputs": [
    {
     "ename": "error",
     "evalue": "OpenCV(4.1.1) C:\\projects\\opencv-python\\opencv\\modules\\imgproc\\src\\color.cpp:182: error: (-215:Assertion failed) !_src.empty() in function 'cv::cvtColor'\n",
     "output_type": "error",
     "traceback": [
      "\u001B[1;31m---------------------------------------------------------------------------\u001B[0m",
      "\u001B[1;31merror\u001B[0m                                     Traceback (most recent call last)",
      "\u001B[1;32m<ipython-input-25-768c00b78a26>\u001B[0m in \u001B[0;36mdraw\u001B[1;34m(event, x, y, flags, param)\u001B[0m\n\u001B[0;32m     22\u001B[0m             color = (0,0,255), thickness = 5)\n\u001B[0;32m     23\u001B[0m         \u001B[0mimg_select\u001B[0m \u001B[1;33m=\u001B[0m \u001B[0mI\u001B[0m\u001B[1;33m[\u001B[0m\u001B[0my1\u001B[0m\u001B[1;33m:\u001B[0m\u001B[0my2\u001B[0m\u001B[1;33m,\u001B[0m \u001B[0mx1\u001B[0m\u001B[1;33m:\u001B[0m\u001B[0mx2\u001B[0m\u001B[1;33m]\u001B[0m\u001B[1;33m\u001B[0m\u001B[0m\n\u001B[1;32m---> 24\u001B[1;33m         \u001B[0mimg_YUV\u001B[0m \u001B[1;33m=\u001B[0m \u001B[0mcv2\u001B[0m\u001B[1;33m.\u001B[0m\u001B[0mcvtColor\u001B[0m\u001B[1;33m(\u001B[0m\u001B[0mimg_select\u001B[0m\u001B[1;33m,\u001B[0m \u001B[0mcv2\u001B[0m\u001B[1;33m.\u001B[0m\u001B[0mCOLOR_BGR2YUV\u001B[0m\u001B[1;33m)\u001B[0m\u001B[1;33m\u001B[0m\u001B[0m\n\u001B[0m\u001B[0;32m     25\u001B[0m         \u001B[0mI\u001B[0m\u001B[1;33m[\u001B[0m\u001B[0my1\u001B[0m\u001B[1;33m:\u001B[0m\u001B[0my2\u001B[0m\u001B[1;33m,\u001B[0m \u001B[0mx1\u001B[0m\u001B[1;33m:\u001B[0m\u001B[0mx2\u001B[0m\u001B[1;33m]\u001B[0m \u001B[1;33m=\u001B[0m \u001B[0mimg_YUV\u001B[0m\u001B[1;33m\u001B[0m\u001B[0m\n\u001B[0;32m     26\u001B[0m         \u001B[0mcv2\u001B[0m\u001B[1;33m.\u001B[0m\u001B[0mimshow\u001B[0m\u001B[1;33m(\u001B[0m\u001B[1;34m\"image\"\u001B[0m\u001B[1;33m,\u001B[0m \u001B[0mI\u001B[0m\u001B[1;33m)\u001B[0m \u001B[1;31m# update the image\u001B[0m\u001B[1;33m\u001B[0m\u001B[0m\n",
      "\u001B[1;31merror\u001B[0m: OpenCV(4.1.1) C:\\projects\\opencv-python\\opencv\\modules\\imgproc\\src\\color.cpp:182: error: (-215:Assertion failed) !_src.empty() in function 'cv::cvtColor'\n"
     ]
    },
    {
     "ename": "error",
     "evalue": "OpenCV(4.1.1) C:\\projects\\opencv-python\\opencv\\modules\\imgproc\\src\\color.cpp:182: error: (-215:Assertion failed) !_src.empty() in function 'cv::cvtColor'\n",
     "output_type": "error",
     "traceback": [
      "\u001B[1;31m---------------------------------------------------------------------------\u001B[0m",
      "\u001B[1;31merror\u001B[0m                                     Traceback (most recent call last)",
      "\u001B[1;32m<ipython-input-25-768c00b78a26>\u001B[0m in \u001B[0;36mdraw\u001B[1;34m(event, x, y, flags, param)\u001B[0m\n\u001B[0;32m     22\u001B[0m             color = (0,0,255), thickness = 5)\n\u001B[0;32m     23\u001B[0m         \u001B[0mimg_select\u001B[0m \u001B[1;33m=\u001B[0m \u001B[0mI\u001B[0m\u001B[1;33m[\u001B[0m\u001B[0my1\u001B[0m\u001B[1;33m:\u001B[0m\u001B[0my2\u001B[0m\u001B[1;33m,\u001B[0m \u001B[0mx1\u001B[0m\u001B[1;33m:\u001B[0m\u001B[0mx2\u001B[0m\u001B[1;33m]\u001B[0m\u001B[1;33m\u001B[0m\u001B[0m\n\u001B[1;32m---> 24\u001B[1;33m         \u001B[0mimg_YUV\u001B[0m \u001B[1;33m=\u001B[0m \u001B[0mcv2\u001B[0m\u001B[1;33m.\u001B[0m\u001B[0mcvtColor\u001B[0m\u001B[1;33m(\u001B[0m\u001B[0mimg_select\u001B[0m\u001B[1;33m,\u001B[0m \u001B[0mcv2\u001B[0m\u001B[1;33m.\u001B[0m\u001B[0mCOLOR_BGR2YUV\u001B[0m\u001B[1;33m)\u001B[0m\u001B[1;33m\u001B[0m\u001B[0m\n\u001B[0m\u001B[0;32m     25\u001B[0m         \u001B[0mI\u001B[0m\u001B[1;33m[\u001B[0m\u001B[0my1\u001B[0m\u001B[1;33m:\u001B[0m\u001B[0my2\u001B[0m\u001B[1;33m,\u001B[0m \u001B[0mx1\u001B[0m\u001B[1;33m:\u001B[0m\u001B[0mx2\u001B[0m\u001B[1;33m]\u001B[0m \u001B[1;33m=\u001B[0m \u001B[0mimg_YUV\u001B[0m\u001B[1;33m\u001B[0m\u001B[0m\n\u001B[0;32m     26\u001B[0m         \u001B[0mcv2\u001B[0m\u001B[1;33m.\u001B[0m\u001B[0mimshow\u001B[0m\u001B[1;33m(\u001B[0m\u001B[1;34m\"image\"\u001B[0m\u001B[1;33m,\u001B[0m \u001B[0mI\u001B[0m\u001B[1;33m)\u001B[0m \u001B[1;31m# update the image\u001B[0m\u001B[1;33m\u001B[0m\u001B[0m\n",
      "\u001B[1;31merror\u001B[0m: OpenCV(4.1.1) C:\\projects\\opencv-python\\opencv\\modules\\imgproc\\src\\color.cpp:182: error: (-215:Assertion failed) !_src.empty() in function 'cv::cvtColor'\n"
     ]
    },
    {
     "ename": "error",
     "evalue": "OpenCV(4.1.1) C:\\projects\\opencv-python\\opencv\\modules\\imgproc\\src\\color.cpp:182: error: (-215:Assertion failed) !_src.empty() in function 'cv::cvtColor'\n",
     "output_type": "error",
     "traceback": [
      "\u001B[1;31m---------------------------------------------------------------------------\u001B[0m",
      "\u001B[1;31merror\u001B[0m                                     Traceback (most recent call last)",
      "\u001B[1;32m<ipython-input-25-768c00b78a26>\u001B[0m in \u001B[0;36mdraw\u001B[1;34m(event, x, y, flags, param)\u001B[0m\n\u001B[0;32m     22\u001B[0m             color = (0,0,255), thickness = 5)\n\u001B[0;32m     23\u001B[0m         \u001B[0mimg_select\u001B[0m \u001B[1;33m=\u001B[0m \u001B[0mI\u001B[0m\u001B[1;33m[\u001B[0m\u001B[0my1\u001B[0m\u001B[1;33m:\u001B[0m\u001B[0my2\u001B[0m\u001B[1;33m,\u001B[0m \u001B[0mx1\u001B[0m\u001B[1;33m:\u001B[0m\u001B[0mx2\u001B[0m\u001B[1;33m]\u001B[0m\u001B[1;33m\u001B[0m\u001B[0m\n\u001B[1;32m---> 24\u001B[1;33m         \u001B[0mimg_YUV\u001B[0m \u001B[1;33m=\u001B[0m \u001B[0mcv2\u001B[0m\u001B[1;33m.\u001B[0m\u001B[0mcvtColor\u001B[0m\u001B[1;33m(\u001B[0m\u001B[0mimg_select\u001B[0m\u001B[1;33m,\u001B[0m \u001B[0mcv2\u001B[0m\u001B[1;33m.\u001B[0m\u001B[0mCOLOR_BGR2YUV\u001B[0m\u001B[1;33m)\u001B[0m\u001B[1;33m\u001B[0m\u001B[0m\n\u001B[0m\u001B[0;32m     25\u001B[0m         \u001B[0mI\u001B[0m\u001B[1;33m[\u001B[0m\u001B[0my1\u001B[0m\u001B[1;33m:\u001B[0m\u001B[0my2\u001B[0m\u001B[1;33m,\u001B[0m \u001B[0mx1\u001B[0m\u001B[1;33m:\u001B[0m\u001B[0mx2\u001B[0m\u001B[1;33m]\u001B[0m \u001B[1;33m=\u001B[0m \u001B[0mimg_YUV\u001B[0m\u001B[1;33m\u001B[0m\u001B[0m\n\u001B[0;32m     26\u001B[0m         \u001B[0mcv2\u001B[0m\u001B[1;33m.\u001B[0m\u001B[0mimshow\u001B[0m\u001B[1;33m(\u001B[0m\u001B[1;34m\"image\"\u001B[0m\u001B[1;33m,\u001B[0m \u001B[0mI\u001B[0m\u001B[1;33m)\u001B[0m \u001B[1;31m# update the image\u001B[0m\u001B[1;33m\u001B[0m\u001B[0m\n",
      "\u001B[1;31merror\u001B[0m: OpenCV(4.1.1) C:\\projects\\opencv-python\\opencv\\modules\\imgproc\\src\\color.cpp:182: error: (-215:Assertion failed) !_src.empty() in function 'cv::cvtColor'\n"
     ]
    }
   ],
   "source": [
    "# 1. Open a user-selected image\n",
    "\n",
    "\n",
    "I = cv2.imread(\"res\\phoenix.jpg\") # Read Image\n",
    "\n",
    "# 2. Show this image on the screen\n",
    "\n",
    "cv2.imshow(\"image\", I) # Show Image\n",
    "\n",
    "# 3. Capture the user’s click on the image\n",
    "\n",
    "# Q: Is it possible to draw half of a pixel\n",
    "def draw(event, x, y, flags, param):\n",
    "    if event == cv2.EVENT_LBUTTONDOWN:\n",
    "        x1 = x - 100\n",
    "        x2 = x + 101\n",
    "        y1 = y - 100\n",
    "        y2 = y + 101\n",
    "        point1 = (x1, y1)\n",
    "        point2 = (x2, y2)\n",
    "        cv2.rectangle(img = I, pt1 = point1, pt2 = point2,\n",
    "            color = (0,0,255), thickness = 5)\n",
    "        img_select = I[y1:y2, x1:x2]\n",
    "        img_YUV = cv2.cvtColor(img_select, cv2.COLOR_BGR2YUV)\n",
    "        I[y1:y2, x1:x2] = img_YUV\n",
    "        cv2.imshow(\"image\", I) # update the image\n",
    "\n",
    "cv2.namedWindow(\"image\")\n",
    "cv2.setMouseCallback(\"image\", draw)\n",
    "\n",
    "\n",
    "key = cv2.waitKey(0)\n",
    "cv2.destroyAllWindows()"
   ],
   "metadata": {
    "collapsed": false,
    "pycharm": {
     "name": "#%%\n"
    }
   }
  },
  {
   "cell_type": "code",
   "source": [
    "a = np.float(1.5)\n",
    "b = 1.5\n",
    "\n",
    "type(a)\n",
    "type(b)\n",
    "if a == b:\n",
    "    print (\"yes\")"
   ],
   "metadata": {
    "collapsed": false,
    "pycharm": {
     "name": "#%%\n"
    }
   },
   "execution_count": 7,
   "outputs": [
    {
     "name": "stdout",
     "output_type": "stream",
     "text": [
      "yes\n"
     ]
    }
   ]
  }
 ],
 "metadata": {
  "kernelspec": {
   "display_name": "Python 3",
   "language": "python",
   "name": "python3"
  },
  "language_info": {
   "codemirror_mode": {
    "name": "ipython",
    "version": 2
   },
   "file_extension": ".py",
   "mimetype": "text/x-python",
   "name": "python",
   "nbconvert_exporter": "python",
   "pygments_lexer": "ipython2",
   "version": "2.7.6"
  }
 },
 "nbformat": 4,
 "nbformat_minor": 0
}