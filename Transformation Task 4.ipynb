{
 "cells": [
  {
   "cell_type": "markdown",
   "metadata": {
    "collapsed": true,
    "pycharm": {
     "name": "#%% md\n"
    }
   },
   "source": [
    "# Transformation Task 4\n",
    "\n",
    "## Requirement\n",
    "\n",
    "    1. Open any image;\n",
    "    2. Crop out the fourth quadrant of the image;\n",
    "    3. Rotate this cropped section by 45 degrees.\n",
    "\n",
    "    Advanced Task:\n",
    "        Don’t fall off the edge!"
   ]
  }
 ],
 "metadata": {
  "kernelspec": {
   "display_name": "Python 3",
   "language": "python",
   "name": "python3"
  },
  "language_info": {
   "codemirror_mode": {
    "name": "ipython",
    "version": 2
   },
   "file_extension": ".py",
   "mimetype": "text/x-python",
   "name": "python",
   "nbconvert_exporter": "python",
   "pygments_lexer": "ipython2",
   "version": "2.7.6"
  }
 },
 "nbformat": 4,
 "nbformat_minor": 0
}