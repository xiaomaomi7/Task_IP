{
 "cells": [
  {
   "cell_type": "markdown",
   "metadata": {
    "collapsed": true,
    "pycharm": {
     "name": "#%% md\n"
    }
   },
   "source": [
    "# Task 1\n",
    "\n",
    "## Requirement\n",
    "    1. Read in any image;\n",
    "    2. Convert this image to YUV;\n",
    "    3. Extract the Y channel (luminance);\n",
    "    4. Convert the original image to grayscale (intensity);\n",
    "    5. Show the two on the screen using OpenCV’s imshow function;\n",
    "    6. Show the luminance on the screen side by side with the intensity\n",
    "        using MatPlotLib’s subplot function (look this up)*."
   ]
  },
  {
   "cell_type": "code",
   "source": [
    "# Read in any images\n",
    "\n"
   ],
   "metadata": {
    "collapsed": false,
    "pycharm": {
     "name": "#%%\n"
    }
   },
   "execution_count": 0,
   "outputs": []
  }
 ],
 "metadata": {
  "kernelspec": {
   "display_name": "Python 3",
   "language": "python",
   "name": "python3"
  },
  "language_info": {
   "codemirror_mode": {
    "name": "ipython",
    "version": 2
   },
   "file_extension": ".py",
   "mimetype": "text/x-python",
   "name": "python",
   "nbconvert_exporter": "python",
   "pygments_lexer": "ipython2",
   "version": "2.7.6"
  }
 },
 "nbformat": 4,
 "nbformat_minor": 0
}