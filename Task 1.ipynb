{
 "cells": [
  {
   "cell_type": "markdown",
   "metadata": {
    "collapsed": true,
    "pycharm": {
     "name": "#%% md\n"
    }
   },
   "source": [
    "# Task 1\n",
    "\n",
    "## Requirement\n",
    "    1. Read in any image;\n",
    "    2. Convert this image to YUV;\n",
    "    3. Extract the Y channel (luminance);\n",
    "    4. Convert the original image to grayscale (intensity);\n",
    "    5. Show the two on the screen using OpenCV’s imshow function;\n",
    "    6. Show the luminance on the screen side by side with the intensity\n",
    "        using MatPlotLib’s subplot function (look this up)*."
   ]
  },
  {
   "cell_type": "code",
   "source": [
    "# Import libraries\n",
    "\n",
    "%matplotlib inline\n",
    "\n",
    "import cv2 # The OpenCV library; install using `pip install opencv-contrib-python`\n",
    "import numpy as np # Helpful when working with arrays; install using `pip install numpy`\n",
    "from matplotlib import pyplot as plt # Good for graphing; install using `pip install matplotlib`\n",
    "from matplotlib import image as image\n",
    "import easygui # An easy-to-use file-picker; pip install easygui\n"
   ],
   "metadata": {
    "collapsed": false,
    "pycharm": {
     "name": "#%%\n"
    }
   },
   "execution_count": 1,
   "outputs": []
  },
  {
   "cell_type": "code",
   "execution_count": 10,
   "outputs": [],
   "source": [
    "# Read the image\n",
    "\n",
    "I = cv2.imread(\"res\\phoenix.jpg\") # Read Image\n",
    "cv2.imshow(\"random\", I) # Show Image\n",
    "key = cv2.waitKey(0) # Press a key before the image is disappeared\n",
    "\n",
    "\n",
    "# Convert the colorspace from BGR to YUV\n",
    "\n",
    "YUV = cv2.cvtColor(I, cv2.COLOR_BGR2YUV)\n",
    "cv2.imshow(\"random2\", YUV) # Show Image\n",
    "key2 = cv2.waitKey(0) # Press a key before the image is disappeared\n",
    "\n",
    "#\n",
    "cv2.destroyAllWindows()"
   ],
   "metadata": {
    "collapsed": false,
    "pycharm": {
     "name": "#%%\n"
    }
   }
  }
 ],
 "metadata": {
  "kernelspec": {
   "display_name": "Python 3",
   "language": "python",
   "name": "python3"
  },
  "language_info": {
   "codemirror_mode": {
    "name": "ipython",
    "version": 2
   },
   "file_extension": ".py",
   "mimetype": "text/x-python",
   "name": "python",
   "nbconvert_exporter": "python",
   "pygments_lexer": "ipython2",
   "version": "2.7.6"
  }
 },
 "nbformat": 4,
 "nbformat_minor": 0
}