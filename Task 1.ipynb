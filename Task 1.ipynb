{
 "cells": [
  {
   "cell_type": "markdown",
   "metadata": {
    "collapsed": true,
    "pycharm": {
     "name": "#%% md\n"
    }
   },
   "source": [
    "# Task 1\n",
    "\n",
    "## Requirement\n",
    "    1. Read in any image;\n",
    "    2. Convert this image to YUV;\n",
    "    3. Extract the Y channel (luminance);\n",
    "    4. Convert the original image to grayscale (intensity);\n",
    "    5. Show the two on the screen using OpenCV’s imshow function;\n",
    "    6. Show the luminance on the screen side by side with the intensity\n",
    "        using MatPlotLib’s subplot function (look this up)*."
   ]
  },
  {
   "cell_type": "code",
   "source": [
    "# Import libraries\n",
    "\n",
    "%matplotlib inline\n",
    "\n",
    "import cv2 # The OpenCV library; install using `pip install opencv-contrib-python`\n",
    "import numpy as np # Helpful when working with arrays; install using `pip install numpy`\n",
    "from matplotlib import pyplot as plt # Good for graphing; install using `pip install matplotlib`\n",
    "from matplotlib import image as image\n",
    "import easygui # An easy-to-use file-picker; pip install easygui\n"
   ],
   "metadata": {
    "collapsed": false,
    "pycharm": {
     "name": "#%%\n"
    }
   },
   "execution_count": 19,
   "outputs": []
  },
  {
   "cell_type": "code",
   "execution_count": 20,
   "outputs": [
    {
     "name": "stdout",
     "output_type": "stream",
     "text": [
      "[[105 106 108 ...  99  99  99]\n",
      " [105 105 107 ...  99  99  99]\n",
      " [ 99 100 100 ...  99  99  99]\n",
      " ...\n",
      " [ 27  27  26 ...  50  50  50]\n",
      " [ 27  27  26 ...  49  49  49]\n",
      " [ 27  27  26 ...  49  49  49]]\n"
     ]
    }
   ],
   "source": [
    "# 1. Read the image\n",
    "\n",
    "I = cv2.imread(\"res\\phoenix.jpg\") # Read Image\n",
    "cv2.imshow(\"Original\", I) # Show Image\n",
    "\n",
    "# 2. Convert the colorspace from BGR to YUV\n",
    "\n",
    "img_YUV = cv2.cvtColor(I, cv2.COLOR_BGR2YUV)\n",
    "cv2.imshow(\"YUV\", img_YUV) # Show Image\n",
    "\n",
    "# 3. Extract the Y Channel - Luminance\n",
    "\n",
    "y, u, v = cv2.split(img_YUV)\n",
    "print(y)\n",
    "cv2.imshow(\"Luminance\", y)\n",
    "\n",
    "# 4. Convert the original image to grayscale (intensity)\n",
    "\n",
    "img_grayscale = cv2.cvtColor(I, cv2.COLOR_BGR2GRAY)\n",
    "cv2.imshow(\"Grayscale\", img_grayscale) # Show Image\n",
    "\n",
    "# 5. Show the two on the screen using OpenCV’s imshow function\n",
    "\n",
    "numpy_horizontal = np.hstack((y, img_grayscale))\n",
    "cv2.imshow(\"Mix\", numpy_horizontal) # Show Image\n",
    "\n",
    "\n",
    "# 6. Show the luminance on the screen side by side with the intensity\n",
    "#   using MatPlotLib’s subplot function (look this up)*.\n",
    "\n",
    "numpy_horizontal_yuv = np.hstack((y, u))\n",
    "numpy_horizontal_yuv = np.hstack((numpy_horizontal_yuv,v))\n",
    "cv2.imshow(\"YUV_Intensity\", numpy_horizontal_yuv) # Show Image\n",
    "\n",
    "key = cv2.waitKey(0) # Press a key before the image is disappeared\n",
    "cv2.destroyAllWindows()"
   ],
   "metadata": {
    "collapsed": false,
    "pycharm": {
     "name": "#%%\n"
    }
   }
  }
 ],
 "metadata": {
  "kernelspec": {
   "display_name": "Python 3",
   "language": "python",
   "name": "python3"
  },
  "language_info": {
   "codemirror_mode": {
    "name": "ipython",
    "version": 2
   },
   "file_extension": ".py",
   "mimetype": "text/x-python",
   "name": "python",
   "nbconvert_exporter": "python",
   "pygments_lexer": "ipython2",
   "version": "2.7.6"
  }
 },
 "nbformat": 4,
 "nbformat_minor": 0
}